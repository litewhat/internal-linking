{
 "cells": [
  {
   "cell_type": "code",
   "execution_count": 3,
   "metadata": {},
   "outputs": [],
   "source": [
    "from functools import partial\n",
    "import pandas as pd\n",
    "import spacy\n",
    "import time"
   ]
  },
  {
   "cell_type": "code",
   "execution_count": 4,
   "metadata": {},
   "outputs": [],
   "source": [
    "def load_nlp_model(name: str):\n",
    "    \"\"\"\n",
    "    Args:\n",
    "        name: Language model name\n",
    "    Returns: Language model object\n",
    "    \"\"\"\n",
    "    nlp_start = time.time()\n",
    "    nlp = spacy.load(name)\n",
    "    nlp_end = time.time()\n",
    "    nlp_time = nlp_end - nlp_start\n",
    "    print(f\"Wczytano silnik nlp w {nlp_time} s.\")\n",
    "    return nlp"
   ]
  },
  {
   "cell_type": "code",
   "execution_count": 8,
   "metadata": {},
   "outputs": [],
   "source": [
    "def lemmatizer(nlp_model, phrase):\n",
    "    doc = nlp_model(str(phrase['Słowo kluczowe']))    # rzutowanie na stringa. Wartości liczbowe mogą być wczytywane jako float.\n",
    "    result = \"\"\n",
    "    for token in doc:\n",
    "        result += f\"{token.lemma_} \"\n",
    "    return result[:-1]"
   ]
  },
  {
   "cell_type": "code",
   "execution_count": 9,
   "metadata": {},
   "outputs": [],
   "source": [
    "def prepare_input_phrases_with_lemmas(nlp_model, filepath: str):\n",
    "    \"\"\"\n",
    "    Loads xlsx file into pandas dataframe and adds lemmas in new column.\n",
    "\n",
    "    Args:\n",
    "        nlp_model: Language model\n",
    "        filepath: Path to xlsx file\n",
    "\n",
    "    Returns: Pandas dataframe\n",
    "    \"\"\"\n",
    "    lemmatizer_start = time.time()\n",
    "\n",
    "    phrase_database = pd.read_excel(filepath, engine=\"openpyxl\")\n",
    "    phrase_database['Lemma'] = phrase_database.apply(partial(lemmatizer, nlp_model), axis=1)\n",
    "    phrase_database = phrase_database.drop_duplicates(subset=['URL', 'Lemma'])\n",
    "    phrase_database.to_excel(\"Lemmas.xlsx\")\n",
    "\n",
    "    print(\"Stworzono df z frazami lemma.\")\n",
    "\n",
    "    lemmatizer_end = time.time()\n",
    "    lemmatizer_time = lemmatizer_end - lemmatizer_start\n",
    "\n",
    "    return phrase_database"
   ]
  },
  {
   "cell_type": "code",
   "execution_count": 10,
   "metadata": {},
   "outputs": [
    {
     "name": "stdout",
     "output_type": "stream",
     "text": [
      "Wczytano silnik nlp w 10.6211519241333 s.\n"
     ]
    }
   ],
   "source": [
    "lang_model = load_nlp_model(\"pl_core_news_sm\")"
   ]
  },
  {
   "cell_type": "code",
   "execution_count": 22,
   "metadata": {},
   "outputs": [
    {
     "name": "stdout",
     "output_type": "stream",
     "text": [
      "Stworzono df z frazami lemma.\n"
     ]
    }
   ],
   "source": [
    "df_phrases = prepare_input_phrases_with_lemmas(lang_model, \"Input/asd.xlsx\")"
   ]
  },
  {
   "cell_type": "code",
   "execution_count": 28,
   "metadata": {},
   "outputs": [
    {
     "data": {
      "text/plain": [
       "5    skarga na lekarz wzór\n",
       "Name: Lemma, dtype: object"
      ]
     },
     "execution_count": 28,
     "metadata": {},
     "output_type": "execute_result"
    }
   ],
   "source": [
    "df_phrases[\"Lemma\"][df_phrases[\"URL\"] == \"https://eim.waw.pl/blog/skarga-na-lekarza\"]"
   ]
  },
  {
   "cell_type": "code",
   "execution_count": 34,
   "metadata": {},
   "outputs": [],
   "source": [
    "import numpy as np\n",
    "\n",
    "n = 4\n",
    "\n",
    "df_phrases_parts = np.array_split(df_phrases, n)"
   ]
  },
  {
   "cell_type": "code",
   "execution_count": 35,
   "metadata": {},
   "outputs": [
    {
     "data": {
      "text/html": [
       "<div>\n",
       "<style scoped>\n",
       "    .dataframe tbody tr th:only-of-type {\n",
       "        vertical-align: middle;\n",
       "    }\n",
       "\n",
       "    .dataframe tbody tr th {\n",
       "        vertical-align: top;\n",
       "    }\n",
       "\n",
       "    .dataframe thead th {\n",
       "        text-align: right;\n",
       "    }\n",
       "</style>\n",
       "<table border=\"1\" class=\"dataframe\">\n",
       "  <thead>\n",
       "    <tr style=\"text-align: right;\">\n",
       "      <th></th>\n",
       "      <th>URL</th>\n",
       "      <th>Słowo kluczowe</th>\n",
       "      <th>Lemma</th>\n",
       "    </tr>\n",
       "  </thead>\n",
       "  <tbody>\n",
       "    <tr>\n",
       "      <th>0</th>\n",
       "      <td>https://eim.waw.pl/blog/odwolanie-od-decyzji-u...</td>\n",
       "      <td>odwołanie od decyzji pzu uszczerbek na zdrowiu...</td>\n",
       "      <td>odwołanie od decyzja pzu uszczerbek na zdrowie...</td>\n",
       "    </tr>\n",
       "    <tr>\n",
       "      <th>1</th>\n",
       "      <td>https://eim.waw.pl/blog/infekcja-i-sepsa-w-ciazy</td>\n",
       "      <td>sepsa po porodzie</td>\n",
       "      <td>sepsa po poród</td>\n",
       "    </tr>\n",
       "    <tr>\n",
       "      <th>2</th>\n",
       "      <td>https://eim.waw.pl/blog/wniosek-o-jednorazowe-...</td>\n",
       "      <td>jak napisać wniosek o jednorazowe odszkodowani...</td>\n",
       "      <td>jak napisać wniosek o jednorazowy odszkodowani...</td>\n",
       "    </tr>\n",
       "    <tr>\n",
       "      <th>3</th>\n",
       "      <td>https://eim.waw.pl/blog/wniosek-o-odszkodowani...</td>\n",
       "      <td>wniosek o odszkodowanie</td>\n",
       "      <td>wniosek o odszkodowanie</td>\n",
       "    </tr>\n",
       "    <tr>\n",
       "      <th>4</th>\n",
       "      <td>https://eim.waw.pl/blog/zerwane-sciegno-achill...</td>\n",
       "      <td>zerwane ścięgno achillesa odszkodowanie</td>\n",
       "      <td>zerwać ścięgno achillesa odszkodowanie</td>\n",
       "    </tr>\n",
       "    <tr>\n",
       "      <th>5</th>\n",
       "      <td>https://eim.waw.pl/blog/skarga-na-lekarza</td>\n",
       "      <td>skarga na lekarza wzór</td>\n",
       "      <td>skarga na lekarz wzór</td>\n",
       "    </tr>\n",
       "    <tr>\n",
       "      <th>6</th>\n",
       "      <td>https://eim.waw.pl/blog/odszkodowanie-za-zakaz...</td>\n",
       "      <td>zakażenie gronkowcem w szpitalu</td>\n",
       "      <td>zakażenie gronkowiec w szpital</td>\n",
       "    </tr>\n",
       "    <tr>\n",
       "      <th>7</th>\n",
       "      <td>https://eim.waw.pl/blog/odszkodowanie-za-strat...</td>\n",
       "      <td>straty moralne</td>\n",
       "      <td>strata moralny</td>\n",
       "    </tr>\n",
       "    <tr>\n",
       "      <th>8</th>\n",
       "      <td>https://eim.waw.pl/blog/blad-medyczny-przy-zab...</td>\n",
       "      <td>brzuch po laparoskopii</td>\n",
       "      <td>brzucho po laparoskopia</td>\n",
       "    </tr>\n",
       "    <tr>\n",
       "      <th>9</th>\n",
       "      <td>https://eim.waw.pl/blog/odszkodowanie-za-potra...</td>\n",
       "      <td>potrącenie pieszego na pasach konsekwencje</td>\n",
       "      <td>potrącić pieszego na pasy konsekwencja</td>\n",
       "    </tr>\n",
       "    <tr>\n",
       "      <th>10</th>\n",
       "      <td>https://eim.waw.pl/blog/zamartwica</td>\n",
       "      <td>zamartwica</td>\n",
       "      <td>zamartwica</td>\n",
       "    </tr>\n",
       "    <tr>\n",
       "      <th>11</th>\n",
       "      <td>https://eim.waw.pl/blog/nieudane-operacje-plas...</td>\n",
       "      <td>nieudane operacje plastyczne</td>\n",
       "      <td>udany operacja plastyczny</td>\n",
       "    </tr>\n",
       "    <tr>\n",
       "      <th>12</th>\n",
       "      <td>https://eim.waw.pl/blog/mowa-koncowa</td>\n",
       "      <td>mowa końcowa</td>\n",
       "      <td>mowa końcowy</td>\n",
       "    </tr>\n",
       "    <tr>\n",
       "      <th>13</th>\n",
       "      <td>https://eim.waw.pl/bledy-lekarskie</td>\n",
       "      <td>błędy lekarskie</td>\n",
       "      <td>błąd lekarski</td>\n",
       "    </tr>\n",
       "    <tr>\n",
       "      <th>14</th>\n",
       "      <td>https://eim.waw.pl/blog/niedotlenienie-okolopo...</td>\n",
       "      <td>objawy niedotlenienia u dzieci starszych</td>\n",
       "      <td>objaw niedotlenienie u dziecko stary</td>\n",
       "    </tr>\n",
       "  </tbody>\n",
       "</table>\n",
       "</div>"
      ],
      "text/plain": [
       "                                                  URL  \\\n",
       "0   https://eim.waw.pl/blog/odwolanie-od-decyzji-u...   \n",
       "1    https://eim.waw.pl/blog/infekcja-i-sepsa-w-ciazy   \n",
       "2   https://eim.waw.pl/blog/wniosek-o-jednorazowe-...   \n",
       "3   https://eim.waw.pl/blog/wniosek-o-odszkodowani...   \n",
       "4   https://eim.waw.pl/blog/zerwane-sciegno-achill...   \n",
       "5           https://eim.waw.pl/blog/skarga-na-lekarza   \n",
       "6   https://eim.waw.pl/blog/odszkodowanie-za-zakaz...   \n",
       "7   https://eim.waw.pl/blog/odszkodowanie-za-strat...   \n",
       "8   https://eim.waw.pl/blog/blad-medyczny-przy-zab...   \n",
       "9   https://eim.waw.pl/blog/odszkodowanie-za-potra...   \n",
       "10                 https://eim.waw.pl/blog/zamartwica   \n",
       "11  https://eim.waw.pl/blog/nieudane-operacje-plas...   \n",
       "12               https://eim.waw.pl/blog/mowa-koncowa   \n",
       "13                 https://eim.waw.pl/bledy-lekarskie   \n",
       "14  https://eim.waw.pl/blog/niedotlenienie-okolopo...   \n",
       "\n",
       "                                       Słowo kluczowe  \\\n",
       "0   odwołanie od decyzji pzu uszczerbek na zdrowiu...   \n",
       "1                                   sepsa po porodzie   \n",
       "2   jak napisać wniosek o jednorazowe odszkodowani...   \n",
       "3                             wniosek o odszkodowanie   \n",
       "4             zerwane ścięgno achillesa odszkodowanie   \n",
       "5                              skarga na lekarza wzór   \n",
       "6                     zakażenie gronkowcem w szpitalu   \n",
       "7                                      straty moralne   \n",
       "8                              brzuch po laparoskopii   \n",
       "9          potrącenie pieszego na pasach konsekwencje   \n",
       "10                                         zamartwica   \n",
       "11                       nieudane operacje plastyczne   \n",
       "12                                       mowa końcowa   \n",
       "13                                    błędy lekarskie   \n",
       "14           objawy niedotlenienia u dzieci starszych   \n",
       "\n",
       "                                                Lemma  \n",
       "0   odwołanie od decyzja pzu uszczerbek na zdrowie...  \n",
       "1                                      sepsa po poród  \n",
       "2   jak napisać wniosek o jednorazowy odszkodowani...  \n",
       "3                             wniosek o odszkodowanie  \n",
       "4              zerwać ścięgno achillesa odszkodowanie  \n",
       "5                               skarga na lekarz wzór  \n",
       "6                      zakażenie gronkowiec w szpital  \n",
       "7                                      strata moralny  \n",
       "8                             brzucho po laparoskopia  \n",
       "9              potrącić pieszego na pasy konsekwencja  \n",
       "10                                         zamartwica  \n",
       "11                          udany operacja plastyczny  \n",
       "12                                       mowa końcowy  \n",
       "13                                      błąd lekarski  \n",
       "14               objaw niedotlenienie u dziecko stary  "
      ]
     },
     "execution_count": 35,
     "metadata": {},
     "output_type": "execute_result"
    }
   ],
   "source": [
    "df_phrases_parts[0]"
   ]
  },
  {
   "cell_type": "code",
   "execution_count": null,
   "metadata": {},
   "outputs": [],
   "source": []
  }
 ],
 "metadata": {
  "kernelspec": {
   "display_name": "Python 3",
   "language": "python",
   "name": "python3"
  },
  "language_info": {
   "codemirror_mode": {
    "name": "ipython",
    "version": 3
   },
   "file_extension": ".py",
   "mimetype": "text/x-python",
   "name": "python",
   "nbconvert_exporter": "python",
   "pygments_lexer": "ipython3",
   "version": "3.8.6"
  }
 },
 "nbformat": 4,
 "nbformat_minor": 4
}
